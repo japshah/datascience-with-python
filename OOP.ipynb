{
  "cells": [
    {
      "cell_type": "markdown",
      "metadata": {
        "id": "TOVnKMKv0oEu"
      },
      "source": [
        "9th jan 2024"
      ]
    },
    {
      "cell_type": "markdown",
      "metadata": {
        "id": "OPdvdNdtogCt"
      },
      "source": [
        "1. What is 7 to the power 4"
      ]
    },
    {
      "cell_type": "code",
      "execution_count": null,
      "metadata": {
        "colab": {
          "base_uri": "https://localhost:8080/"
        },
        "id": "GAanDvS5ofgc",
        "outputId": "e2af6c69-e18a-4289-e016-d5602bba8ecf"
      },
      "outputs": [
        {
          "name": "stdout",
          "output_type": "stream",
          "text": [
            "2401\n"
          ]
        }
      ],
      "source": [
        "a=7**4\n",
        "print(a)"
      ]
    },
    {
      "cell_type": "markdown",
      "metadata": {
        "id": "oHV5-uVEpJH2"
      },
      "source": [
        "2. Split the string:\n",
        "s=\"hi there sam!\"\n",
        "into list"
      ]
    },
    {
      "cell_type": "code",
      "execution_count": null,
      "metadata": {
        "colab": {
          "base_uri": "https://localhost:8080/"
        },
        "id": "nmBmqiZOpUA-",
        "outputId": "812aae84-71ed-4b15-fb5f-22dc9582b7f4"
      },
      "outputs": [
        {
          "data": {
            "text/plain": [
              "['hi', 'there', 'sam!']"
            ]
          },
          "execution_count": 10,
          "metadata": {},
          "output_type": "execute_result"
        }
      ],
      "source": [
        "s=\"hi there sam!\"\n",
        "s.split()\n"
      ]
    },
    {
      "cell_type": "markdown",
      "metadata": {
        "id": "0bQTcX6DpkHM"
      },
      "source": [
        "3. Given the variables:\n",
        "planet=earth\n",
        "diameter=12742\n",
        "use .format() to print the following string:\n",
        "The diameter of Earth is 12742 kilometers."
      ]
    },
    {
      "cell_type": "code",
      "execution_count": null,
      "metadata": {
        "colab": {
          "base_uri": "https://localhost:8080/"
        },
        "id": "cc3odBGcqbrU",
        "outputId": "74f9a081-1189-40ec-b287-ce8790a42ec7"
      },
      "outputs": [
        {
          "name": "stdout",
          "output_type": "stream",
          "text": [
            "The diameter of earth is 12742 kilometers.\n"
          ]
        }
      ],
      "source": [
        "planet='earth'\n",
        "diameter=12742\n",
        "print(f'The diameter of {planet} is {diameter} kilometers.')"
      ]
    },
    {
      "cell_type": "markdown",
      "metadata": {
        "id": "q7gqAv78qgsT"
      },
      "source": [
        "4. given the nested list,use indexing to grab the word \"hello\".\n",
        "lst=[1,2,[3,4],[5,[100,200,[\"hello\"]],23,11],1,7]"
      ]
    },
    {
      "cell_type": "code",
      "execution_count": null,
      "metadata": {
        "id": "_pB_4pEkrtSG"
      },
      "outputs": [],
      "source": [
        "lst=[1,2,[3,4],[5,[100,200,[\"hello\"]],23,11],1,7]\n",
        "lst[3][1][2][0]"
      ]
    },
    {
      "cell_type": "markdown",
      "metadata": {
        "id": "8hgZpy4Ps3zr"
      },
      "source": [
        "5. given the nested dictionary grab the word \"hello\":\n",
        "d={'k1':[1,2,3,{'tricky':['oh','man','inception',{'target':[1,2,3,'hello']}]}]}"
      ]
    },
    {
      "cell_type": "code",
      "execution_count": null,
      "metadata": {
        "colab": {
          "base_uri": "https://localhost:8080/",
          "height": 36
        },
        "id": "LaFq6tzRtgSr",
        "outputId": "90cdac74-07b0-4628-9e5b-e642d24f1095"
      },
      "outputs": [
        {
          "data": {
            "application/vnd.google.colaboratory.intrinsic+json": {
              "type": "string"
            },
            "text/plain": [
              "'hello'"
            ]
          },
          "execution_count": 6,
          "metadata": {},
          "output_type": "execute_result"
        }
      ],
      "source": [
        "d={'k1':[1,2,3,{'tricky':['oh','man','inception',{'target':[1,2,3,'hello']}]}]}\n",
        "d['k1'][3]['tricky'][3]['target'][3]"
      ]
    },
    {
      "cell_type": "markdown",
      "metadata": {
        "id": "EYc0U_Jdtmm3"
      },
      "source": [
        "6. What is the main difference between a tuple and a list ?\n",
        "ans: -Tuples are created using parentheses () and may contain a mix of data   \n",
        "      types.It is not changable.\n",
        "\n",
        "     -Lists are created using square brackets [] and can also contain a mix of data types.It is changable.\n",
        "\n",
        "\n"
      ]
    },
    {
      "cell_type": "markdown",
      "metadata": {
        "id": "8uAkJbgcvroK"
      },
      "source": [
        "7. Create a function that grabs the email the email website domain from a string in the form:\n",
        "\n",
        "user@domain.com\n",
        "so for example passing \"user@domain.com\" would return domain.com"
      ]
    },
    {
      "cell_type": "code",
      "execution_count": null,
      "metadata": {
        "colab": {
          "base_uri": "https://localhost:8080/"
        },
        "id": "kkN4JsGbx-Ta",
        "outputId": "8c50e659-7c75-4584-dc20-79b54628816f"
      },
      "outputs": [
        {
          "name": "stdout",
          "output_type": "stream",
          "text": [
            "email :kkik@gmail.com\n",
            "domain : gmail.com\n"
          ]
        }
      ],
      "source": [
        "def extract(email):\n",
        "    return email.split('@')[-1]\n",
        "\n",
        "\n",
        "a= input(\"email :\")\n",
        "domain = extract (a)\n",
        "print(\"domain :\", domain)"
      ]
    },
    {
      "cell_type": "markdown",
      "metadata": {
        "id": "tjcZdLpT0ZlC"
      },
      "source": [
        "8. Function to find 'dog' in a string"
      ]
    },
    {
      "cell_type": "code",
      "execution_count": null,
      "metadata": {
        "colab": {
          "base_uri": "https://localhost:8080/"
        },
        "id": "ozokCdKiz8TX",
        "outputId": "ee67d5bf-cbc1-4461-db58-b5636eeabe42"
      },
      "outputs": [
        {
          "name": "stdout",
          "output_type": "stream",
          "text": [
            "True\n"
          ]
        }
      ],
      "source": [
        "def findDog(st):\n",
        "    return 'dog' in st.split()\n",
        "\n",
        "strg = findDog('Is there a dog here?')\n",
        "print(strg)"
      ]
    },
    {
      "cell_type": "markdown",
      "metadata": {
        "id": "a07C6HSg38t9"
      },
      "source": [
        "9. lambda and filter() function to filter out words that dont start with the letter s"
      ]
    },
    {
      "cell_type": "code",
      "execution_count": null,
      "metadata": {
        "colab": {
          "base_uri": "https://localhost:8080/"
        },
        "id": "-3bv22X74NyA",
        "outputId": "9cc490b1-2857-4895-f8a8-7f99620375d2"
      },
      "outputs": [
        {
          "name": "stdout",
          "output_type": "stream",
          "text": [
            "['soup', 'salad', 'sand']\n"
          ]
        }
      ],
      "source": [
        "a = ['soup', 'dog', 'cat', 'salad', 'bat', 'sand', 'luke', 'emia']\n",
        "\n",
        "alist = list(filter(lambda x: x.startswith('s'), a))\n",
        "\n",
        "print(alist)\n"
      ]
    },
    {
      "cell_type": "markdown",
      "metadata": {
        "id": "-dtuhpQJ5J7v"
      },
      "source": [
        "10. you are driving too fast,and a police officer stop you. write a function to return one of 3 possible results: \"no ticket\", \"small ticket\" , \"big ticket\". If yout speed is 60 or less, the result will be \"no ticket,if your speed is between 61 to 80 the result will be \"small ticket\" and if the speed is 81 or more the result will be \"big ticket\" unless if its your birthday(encoded as boolean value in the parameters of the function) on your birthday your speed can be 5 higher in all cases."
      ]
    },
    {
      "cell_type": "code",
      "execution_count": null,
      "metadata": {
        "colab": {
          "base_uri": "https://localhost:8080/"
        },
        "id": "Pfos9PA39-Jv",
        "outputId": "1661f148-1ad2-4dc0-cac4-1e6b81450153"
      },
      "outputs": [
        {
          "name": "stdout",
          "output_type": "stream",
          "text": [
            "Enter your speed: 84\n",
            "Is it your birthday? (yes/no): no\n",
            "79\n",
            "Big ticket\n"
          ]
        }
      ],
      "source": [
        " def ticket(speed):\n",
        "    if speed <= 60:\n",
        "        return \"No ticket\"\n",
        "    elif 61 <= speed <= 80:\n",
        "        return \"Small ticket\"\n",
        "    else:\n",
        "        return \"Big ticket\"\n",
        "\n",
        "speed= input(\"Enter your speed: \")\n",
        "birthday= input(\"Is it your birthday? (yes/no): \")\n",
        "\n",
        "speed = int(speed)\n",
        "result = ticket(speed)\n",
        "\n",
        "if birthday==\"no\":\n",
        "  print(result)\n",
        "else:\n",
        "  print(\"no ticket\")\n"
      ]
    },
    {
      "cell_type": "markdown",
      "metadata": {
        "id": "xKkWTtb-ZgNq"
      },
      "source": [
        "11. Write a program to input roll no, student name, marks of physics, chemistry and maths out of 100. (0-100). Calculate total, percentage, calculate STATUS (pass, fail) if students scores above 40 in all the 3 subjects the STATUS should be pass otherwise fail. Calculate GRADE if\n",
        "STATUS is pass.\n",
        "Grade must be based on percentage value\n",
        "if percentage is above 70, then grade must be DISTINCTION if percentage is above 60, then grade must be FIRST CLASS if percentage is above 50, then grade must be SECOND CLASS if percentage is above 40, then grade must be PASS CLASS"
      ]
    },
    {
      "cell_type": "code",
      "execution_count": null,
      "metadata": {
        "colab": {
          "base_uri": "https://localhost:8080/"
        },
        "id": "bMbrUh1ZZ0ee",
        "outputId": "e9b57d3b-9a8c-497c-fe92-66edf289c911"
      },
      "outputs": [
        {
          "name": "stdout",
          "output_type": "stream",
          "text": [
            "Enter roll no: 237\n",
            "Enter student name: jap shah\n",
            "Enter physics marks: 80\n",
            "Enter chemistry marks: 88\n",
            "Enter maths marks: 90\n",
            "Roll no: 237\n",
            "Student name: jap shah\n",
            "Physics marks: 80\n",
            "Chemistry marks: 88\n",
            "Maths marks: 90\n",
            "Total marks: 258\n",
            "Percentage: 86.0\n",
            "Status: Pass\n",
            "Grade: Distinction\n"
          ]
        }
      ],
      "source": [
        "rollno = int(input(\"Enter roll no: \"))\n",
        "studentname = input(\"Enter student name: \")\n",
        "physicsmarks = int(input(\"Enter physics marks: \"))\n",
        "chemistrymarks = int(input(\"Enter chemistry marks: \"))\n",
        "mathsmarks = int(input(\"Enter maths marks: \"))\n",
        "\n",
        "total = physicsmarks + chemistrymarks + mathsmarks\n",
        "perc = (total / 300.0) * 100\n",
        "\n",
        "if physicsmarks < 40 or chemistrymarks < 40 or mathsmarks < 40:\n",
        "  status = \"Fail\"\n",
        "else:\n",
        "  status = \"Pass\"\n",
        "\n",
        "if status == \"Pass\":\n",
        "  if perc > 70:\n",
        "    grade = \"Distinction\"\n",
        "  elif perc > 60:\n",
        "    grade = \"First Class\"\n",
        "  elif perc > 50:\n",
        "    grade = \"Second Class\"\n",
        "  else:\n",
        "    grade = \"Pass Class\"\n",
        "\n",
        "print(\"Roll no:\", rollno)\n",
        "print(\"Student name:\", studentname)\n",
        "print(\"Physics marks:\", physicsmarks)\n",
        "print(\"Chemistry marks:\", chemistrymarks)\n",
        "print(\"Maths marks:\", mathsmarks)\n",
        "print(\"Total marks:\", total)\n",
        "print(\"Percentage:\", perc)\n",
        "print(\"Status:\", status)\n",
        "print(\"Grade:\", grade)\n"
      ]
    },
    {
      "cell_type": "markdown",
      "metadata": {
        "id": "M8749V45X-1S"
      },
      "source": [
        "12. write an oop program to perform additiions ,base and power ,concatenation ,max,minof two numbers stored in two different objects created from same class"
      ]
    },
    {
      "cell_type": "code",
      "execution_count": null,
      "metadata": {
        "colab": {
          "base_uri": "https://localhost:8080/"
        },
        "id": "SZNRHywZW-wo",
        "outputId": "61ab375d-4658-4be6-effa-5258e32fd260"
      },
      "outputs": [
        {
          "name": "stdout",
          "output_type": "stream",
          "text": [
            "Addition: 30\n",
            "Power: 121576654590569288010000000000000000000000000000000000000000\n",
            "Concatenation: 1020\n",
            "Maximum: 40\n",
            "Minimum: 10\n"
          ]
        }
      ],
      "source": [
        "class Operations:\n",
        "    def __init__(self, num1, num2):\n",
        "        self.num1 = num1\n",
        "        self.num2 = num2\n",
        "\n",
        "    def add(self):\n",
        "        return self.num1 + self.num2\n",
        "\n",
        "    def power(self):\n",
        "        return self.num1 ** self.num2\n",
        "\n",
        "    def concat(self):\n",
        "        return str(self.num1) + str(self.num2)\n",
        "\n",
        "    def max(self):\n",
        "        return max(self.num1, self.num2)\n",
        "\n",
        "    def min(self):\n",
        "        return min(self.num1, self.num2)\n",
        "\n",
        "obj1 = Operations(10, 20)\n",
        "obj2 = Operations(30, 40)\n",
        "\n",
        "print(\"Addition:\", obj1.add())\n",
        "print(\"Power:\", obj2.power())\n",
        "print(\"Concatenation:\", obj1.concat())\n",
        "print(\"Maximum:\", obj2.max())\n",
        "print(\"Minimum:\", obj1.min())\n"
      ]
    },
    {
      "cell_type": "markdown",
      "metadata": {
        "id": "L__SIf86YG2K"
      },
      "source": [
        "Write a Python program to solve quadratic equation.\n",
        "The standard form of a quadratic equation is:\n",
        "where\n",
        "a, b and c are real numbers and\n",
        "The solutions of this quadratic equation is given by:\n",
        "𝑎𝑥 + 𝑏𝑥 + 𝑐 = 0\n",
        "2\n",
        "𝑎 ≠ 0\n",
        "(−𝑏 ± (𝑏 − 4𝑎𝑐 )/(2𝑎)"
      ]
    },
    {
      "cell_type": "markdown",
      "metadata": {
        "id": "gqzh5iQLPKeO"
      },
      "source": [
        "structured and unstructured\n"
      ]
    },
    {
      "cell_type": "markdown",
      "metadata": {
        "id": "k4drspoANNhb"
      },
      "source": [
        "2nd Febuary 2024\n",
        "________________________________________________________________________________\n",
        "Qualitative data and quantitative data\n",
        "qual:categorical\n",
        "quant:numerical\n",
        "\n",
        "binary--->0/1\n",
        "          yes/no\n",
        "          true/false\n",
        "ordinal data:\n",
        "\n",
        "categorical:enumerated factors,nominal\n",
        "tv screen(plasma,led,lcd etc.)\n",
        "or\n",
        "state-name(Gujarat,Andhra Pradesh etc.)\n",
        "\n",
        "continuous:data that can take on any value in an interval.\n",
        "(synonyms:interval,float,numeric)\n",
        "\n",
        "DATA FRAME:\n",
        "rectangular data like a spreadsheet is the basic data structure for statistical and machine learning models\n",
        "\n"
      ]
    },
    {
      "cell_type": "markdown",
      "metadata": {
        "id": "PvWAgUSAo6qL"
      },
      "source": [
        "spatial data structures are used in mapping and location analytics, are more complex and varied than rectangular data structures. In the object, representation, the focus of the data is an object (eg: house) and  its spatial coordinates. The field view, by contrast,focuses on small units of space and the value of a relevant metric(pixel brightness,for example graph(or network) data structures are used to represent physical,social and abstract relationships."
      ]
    },
    {
      "cell_type": "markdown",
      "metadata": {
        "id": "WoCqtikWrxIQ"
      },
      "source": [
        "Artificial Inteligence: Ability of  machine or a computer program to think and learn like humans. AI is accomplished by studying how human brrain thinks,acts and learns while trying to solve a probllem and then using the outcomes of this study, intelligent software and systems and developed."
      ]
    },
    {
      "cell_type": "markdown",
      "metadata": {
        "id": "bRWshLeDss8P"
      },
      "source": [
        "**data science domain**:\n",
        "\n",
        "data science as a discipline can be thought of as the study of tools used to model data generate insights from data and make decision based on data. they are generic tools applicable to many fields such as engineering,laws,medicine,financeetc.\n",
        "\n",
        "\n",
        "\n",
        "1.   computer science programming\n",
        "2.   statistics and machine learning\n",
        "3.   domain knowledge: such as biotech is said to possess domain knowledge      \n",
        "     of that industry\n",
        "     \n",
        "\n"
      ]
    },
    {
      "cell_type": "markdown",
      "metadata": {
        "id": "YwoJ-W2jwoVL"
      },
      "source": [
        "**data life**\n",
        "\n",
        "define the purpose\n",
        "\n",
        "\n",
        "data collecction\n",
        "\n",
        "\n",
        "data type\n",
        "\n",
        "\n",
        "data source\n",
        "\n",
        "\n",
        "data quality\n",
        "\n",
        "\n",
        "data cleaning\n",
        "\n",
        "\n",
        "data integration\n",
        "\n",
        "\n",
        "data storage\n",
        "\n",
        "\n",
        "data security\n",
        "\n",
        "\n",
        "data analysis\n",
        "\n",
        "\n",
        "documentation\n"
      ]
    },
    {
      "cell_type": "markdown",
      "metadata": {
        "id": "LHt9Z7hCzUSX"
      },
      "source": []
    },
    {
      "cell_type": "code",
      "execution_count": null,
      "metadata": {
        "colab": {
          "base_uri": "https://localhost:8080/"
        },
        "id": "HNv86FLXLTnC",
        "outputId": "b228dd72-4b18-4681-d62d-f6de6d853414"
      },
      "outputs": [
        {
          "name": "stdout",
          "output_type": "stream",
          "text": [
            "   Product ID Product Name  Product Price\n",
            "0           1    Product A            100\n",
            "1           2    Product B            200\n",
            "2           3    Product C            300\n",
            "3           4    Product D            400\n",
            "4           5    Product E            500\n"
          ]
        }
      ],
      "source": [
        "# prompt: create 3 list with productid product name product price with 5 elements each add this element to data framedd\n",
        "\n",
        "import pandas as pd\n",
        "\n",
        "# Create three lists with 5 elements each\n",
        "product_id = [1, 2, 3, 4, 5]\n",
        "product_name = ['Product A', 'Product B', 'Product C', 'Product D', 'Product E']\n",
        "product_price = [100, 200, 300, 400, 500]\n",
        "\n",
        "# Create a dictionary with the three lists\n",
        "data = {'Product ID': product_id, 'Product Name': product_name, 'Product Price': product_price}\n",
        "\n",
        "# Create a DataFrame from the dictionary\n",
        "df = pd.DataFrame(data)\n",
        "\n",
        "# Print the DataFrame\n",
        "print(df)\n"
      ]
    },
    {
      "cell_type": "code",
      "execution_count": null,
      "metadata": {
        "colab": {
          "base_uri": "https://localhost:8080/"
        },
        "id": "K5uRLQRBTJrs",
        "outputId": "f4e627be-a1eb-41a9-ea81-6384d0f9eb21"
      },
      "outputs": [
        {
          "name": "stdout",
          "output_type": "stream",
          "text": [
            "0    1\n",
            "1    2\n",
            "2    3\n",
            "3    4\n",
            "4    5\n",
            "Name: Product ID, dtype: int64\n",
            "0    Product A\n",
            "1    Product B\n",
            "2    Product C\n",
            "3    Product D\n",
            "4    Product E\n",
            "Name: Product Name, dtype: object\n",
            "0    100\n",
            "1    200\n",
            "2    300\n",
            "3    400\n",
            "4    500\n",
            "Name: Product Price, dtype: int64\n"
          ]
        }
      ],
      "source": [
        "# prompt: extract one by one column and display seperately from above data frameddd\n",
        "\n",
        "# Extract the 'Product ID' column\n",
        "product_id = df['Product ID']\n",
        "\n",
        "# Print the 'Product ID' column\n",
        "print(product_id)\n",
        "\n",
        "# Extract the 'Product Name' column\n",
        "product_name = df['Product Name']\n",
        "\n",
        "# Print the 'Product Name' column\n",
        "print(product_name)\n",
        "\n",
        "# Extract the 'Product Price' column\n",
        "product_price = df['Product Price']\n",
        "\n",
        "# Print the 'Product Price' column\n",
        "print(product_price)\n"
      ]
    },
    {
      "cell_type": "code",
      "execution_count": null,
      "metadata": {
        "colab": {
          "base_uri": "https://localhost:8080/"
        },
        "id": "9gBMbTjjTbMo",
        "outputId": "3922ff44-fdb3-4295-e488-1e315031e115"
      },
      "outputs": [
        {
          "name": "stdout",
          "output_type": "stream",
          "text": [
            "Product ID               1\n",
            "Product Name     Product A\n",
            "Product Price          100\n",
            "Name: 0, dtype: object\n",
            "Product ID               1\n",
            "Product Name     Product A\n",
            "Product Price          100\n",
            "Name: 0, dtype: object\n",
            "Product ID               5\n",
            "Product Name     Product E\n",
            "Product Price          500\n",
            "Name: 4, dtype: object\n",
            "Product ID               5\n",
            "Product Name     Product E\n",
            "Product Price          500\n",
            "Name: 4, dtype: object\n",
            "0    1\n",
            "1    2\n",
            "2    3\n",
            "3    4\n",
            "4    5\n",
            "Name: Product ID, dtype: int64\n",
            "0    1\n",
            "1    2\n",
            "2    3\n",
            "3    4\n",
            "4    5\n",
            "Name: Product ID, dtype: int64\n",
            "0    100\n",
            "1    200\n",
            "2    300\n",
            "3    400\n",
            "4    500\n",
            "Name: Product Price, dtype: int64\n",
            "0    100\n",
            "1    200\n",
            "2    300\n",
            "3    400\n",
            "4    500\n",
            "Name: Product Price, dtype: int64\n"
          ]
        }
      ],
      "source": [
        "# prompt: using loc and iloc diplay each row and column\n",
        "\n",
        "# Access the first row using loc\n",
        "first_row = df.loc[0]\n",
        "print(first_row)\n",
        "\n",
        "# Access the first row using iloc\n",
        "first_row = df.iloc[0]\n",
        "print(first_row)\n",
        "\n",
        "# Access the last row using loc\n",
        "last_row = df.loc[len(df) - 1]\n",
        "print(last_row)\n",
        "\n",
        "# Access the last row using iloc\n",
        "last_row = df.iloc[-1]\n",
        "print(last_row)\n",
        "\n",
        "# Access the first column using loc\n",
        "first_column = df.loc[:, 'Product ID']\n",
        "print(first_column)\n",
        "\n",
        "# Access the first column using iloc\n",
        "first_column = df.iloc[:, 0]\n",
        "print(first_column)\n",
        "\n",
        "# Access the last column using loc\n",
        "last_column = df.loc[:, 'Product Price']\n",
        "print(last_column)\n",
        "\n",
        "# Access the last column using iloc\n",
        "last_column = df.iloc[:, -1]\n",
        "print(last_column)\n"
      ]
    },
    {
      "cell_type": "code",
      "execution_count": null,
      "metadata": {
        "id": "mJwpWaIWWqTQ"
      },
      "outputs": [],
      "source": []
    }
  ],
  "metadata": {
    "colab": {
      "provenance": []
    },
    "kernelspec": {
      "display_name": "Python 3",
      "name": "python3"
    },
    "language_info": {
      "name": "python"
    }
  },
  "nbformat": 4,
  "nbformat_minor": 0
}
